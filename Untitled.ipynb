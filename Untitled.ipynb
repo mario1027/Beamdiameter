{
 "cells": [
  {
   "cell_type": "code",
   "execution_count": 1,
   "id": "56e3d1d9",
   "metadata": {},
   "outputs": [],
   "source": [
    "from camera import CameraUeye\n",
    "from liblaser.mein_laser_class import *"
   ]
  },
  {
   "cell_type": "code",
   "execution_count": 2,
   "id": "eec78757",
   "metadata": {},
   "outputs": [],
   "source": [
    "import numpy as np"
   ]
  },
  {
   "cell_type": "code",
   "execution_count": 3,
   "id": "0615252c",
   "metadata": {},
   "outputs": [
    {
     "name": "stdout",
     "output_type": "stream",
     "text": [
      "IS_COLORMODE_MONOCHROME: \n",
      "\tm_nColorMode: \t\t 6\n",
      "\tself.nBitsPerPixel: \t\t 8\n",
      "\tbytes_per_pixel: \t\t 1\n",
      "\n",
      "Camera model:\t\t UI154xLE-M\n",
      "Camera serial no.:\t 4002717513\n",
      "Maximum image self.width:\t 1280\n",
      "Maximum image self.height:\t 1024\n",
      "\n",
      "Press q to leave the programm\n"
     ]
    }
   ],
   "source": [
    "camera=CameraUeye()"
   ]
  },
  {
   "cell_type": "code",
   "execution_count": 4,
   "id": "1826d9c8",
   "metadata": {},
   "outputs": [],
   "source": [
    "camera.run()"
   ]
  },
  {
   "cell_type": "code",
   "execution_count": 5,
   "id": "d1fc6226",
   "metadata": {},
   "outputs": [],
   "source": [
    "h,v=camera.frame.shape"
   ]
  },
  {
   "cell_type": "code",
   "execution_count": 6,
   "id": "ff3c45d6",
   "metadata": {},
   "outputs": [
    {
     "ename": "ValueError",
     "evalue": "cannot reshape array of size 0 into shape (0,newaxis)",
     "output_type": "error",
     "traceback": [
      "\u001b[0;31m---------------------------------------------------------------------------\u001b[0m",
      "\u001b[0;31mValueError\u001b[0m                                Traceback (most recent call last)",
      "Cell \u001b[0;32mIn [6], line 1\u001b[0m\n\u001b[0;32m----> 1\u001b[0m LaserAnalyzer\u001b[38;5;241m=\u001b[39m\u001b[43mLaserAnalyzer\u001b[49m\u001b[43m(\u001b[49m\u001b[43mcamera\u001b[49m\u001b[38;5;241;43m.\u001b[39;49m\u001b[43mframe\u001b[49m\u001b[43m \u001b[49m\u001b[43m,\u001b[49m\u001b[43m \u001b[49m\u001b[38;5;241;43m5.2\u001b[39;49m\u001b[43m,\u001b[49m\u001b[43m \u001b[49m\u001b[43munits\u001b[49m\u001b[38;5;241;43m=\u001b[39;49m\u001b[38;5;124;43m'\u001b[39;49m\u001b[38;5;124;43mμm\u001b[39;49m\u001b[38;5;124;43m'\u001b[39;49m\u001b[43m,\u001b[49m\u001b[43m \u001b[49m\u001b[43mbackground_fraction\u001b[49m\u001b[38;5;241;43m=\u001b[39;49m\u001b[38;5;241;43m0.035\u001b[39;49m\u001b[43m,\u001b[49m\u001b[43mcrop\u001b[49m\u001b[38;5;241;43m=\u001b[39;49m\u001b[38;5;28;43;01mFalse\u001b[39;49;00m\u001b[43m)\u001b[49m\n",
      "File \u001b[0;32m~/Escritorio/interfaz_ui1/Modern_GUI_PyDracula_PySide6_or_PyQt6/liblaser/mein_laser_class.py:17\u001b[0m, in \u001b[0;36mLaserAnalyzer.__init__\u001b[0;34m(self, image, pixel_size, units, background_fraction, crop)\u001b[0m\n\u001b[1;32m     15\u001b[0m \u001b[38;5;28;01mdef\u001b[39;00m \u001b[38;5;21m__init__\u001b[39m(\u001b[38;5;28mself\u001b[39m,image, pixel_size,units,background_fraction,crop\u001b[38;5;241m=\u001b[39m\u001b[38;5;28;01mTrue\u001b[39;00m):\n\u001b[1;32m     16\u001b[0m     \u001b[38;5;28mself\u001b[39m\u001b[38;5;241m.\u001b[39mLaserData\u001b[38;5;241m=\u001b[39mLaserData(image, pixel_size,units,background_fraction,crop)\n\u001b[0;32m---> 17\u001b[0m     \u001b[38;5;28mself\u001b[39m\u001b[38;5;241m.\u001b[39mSemiminor\u001b[38;5;241m=\u001b[39m\u001b[43mSemiminor\u001b[49m\u001b[43m(\u001b[49m\u001b[38;5;28;43mself\u001b[39;49m\u001b[38;5;241;43m.\u001b[39;49m\u001b[43mLaserData\u001b[49m\u001b[43m)\u001b[49m\n\u001b[1;32m     18\u001b[0m     \u001b[38;5;28mself\u001b[39m\u001b[38;5;241m.\u001b[39mSemimajor\u001b[38;5;241m=\u001b[39mSemimajor(\u001b[38;5;28mself\u001b[39m\u001b[38;5;241m.\u001b[39mLaserData)\n",
      "File \u001b[0;32m~/Escritorio/interfaz_ui1/Modern_GUI_PyDracula_PySide6_or_PyQt6/liblaser/mein_laser_class.py:356\u001b[0m, in \u001b[0;36mSemiminor.__init__\u001b[0;34m(self, LaserData)\u001b[0m\n\u001b[1;32m    351\u001b[0m     yy \u001b[38;5;241m=\u001b[39m \u001b[38;5;241m100\u001b[39m \u001b[38;5;241m*\u001b[39m yy \u001b[38;5;241m/\u001b[39m \u001b[38;5;28mmax\u001b[39m(yy)\n\u001b[1;32m    354\u001b[0m \u001b[38;5;28mself\u001b[39m\u001b[38;5;241m.\u001b[39mI \u001b[38;5;241m=\u001b[39m yy\n\u001b[0;32m--> 356\u001b[0m \u001b[38;5;28mself\u001b[39m\u001b[38;5;241m.\u001b[39mf_r \u001b[38;5;241m=\u001b[39m \u001b[43minterp1d\u001b[49m\u001b[43m(\u001b[49m\u001b[43myy\u001b[49m\u001b[43m[\u001b[49m\u001b[43mx_x\u001b[49m\u001b[43m:\u001b[49m\u001b[43mx_x\u001b[49m\u001b[43m]\u001b[49m\u001b[43m,\u001b[49m\u001b[43m \u001b[49m\u001b[38;5;28;43mself\u001b[39;49m\u001b[38;5;241;43m.\u001b[39;49m\u001b[43mss\u001b[49m\u001b[43m[\u001b[49m\u001b[43mx_x\u001b[49m\u001b[43m:\u001b[49m\u001b[43mx_x\u001b[49m\u001b[43m]\u001b[49m\u001b[43m,\u001b[49m\u001b[43m \u001b[49m\u001b[43mkind\u001b[49m\u001b[38;5;241;43m=\u001b[39;49m\u001b[38;5;124;43m'\u001b[39;49m\u001b[38;5;124;43mcubic\u001b[39;49m\u001b[38;5;124;43m'\u001b[39;49m\u001b[43m,\u001b[49m\u001b[43m \u001b[49m\u001b[43mfill_value\u001b[49m\u001b[38;5;241;43m=\u001b[39;49m\u001b[38;5;124;43m\"\u001b[39;49m\u001b[38;5;124;43mextrapolate\u001b[39;49m\u001b[38;5;124;43m\"\u001b[39;49m\u001b[43m)\u001b[49m\n\u001b[1;32m    359\u001b[0m \u001b[38;5;28mself\u001b[39m\u001b[38;5;241m.\u001b[39mry1 \u001b[38;5;241m=\u001b[39m \u001b[38;5;28mabs\u001b[39m(\u001b[38;5;28mself\u001b[39m\u001b[38;5;241m.\u001b[39mf_r(baseline))\n\u001b[1;32m    360\u001b[0m \u001b[38;5;28mself\u001b[39m\u001b[38;5;241m.\u001b[39mry2 \u001b[38;5;241m=\u001b[39m \u001b[38;5;28mabs\u001b[39m(\u001b[38;5;28mself\u001b[39m\u001b[38;5;241m.\u001b[39mf_r(baseline1))\n",
      "File \u001b[0;32m~/.local/lib/python3.10/site-packages/scipy/interpolate/_interpolate.py:532\u001b[0m, in \u001b[0;36minterp1d.__init__\u001b[0;34m(self, x, y, kind, axis, copy, bounds_error, fill_value, assume_sorted)\u001b[0m\n\u001b[1;32m    530\u001b[0m \u001b[38;5;66;03m# Interpolation goes internally along the first axis\u001b[39;00m\n\u001b[1;32m    531\u001b[0m \u001b[38;5;28mself\u001b[39m\u001b[38;5;241m.\u001b[39my \u001b[38;5;241m=\u001b[39m y\n\u001b[0;32m--> 532\u001b[0m \u001b[38;5;28mself\u001b[39m\u001b[38;5;241m.\u001b[39m_y \u001b[38;5;241m=\u001b[39m \u001b[38;5;28;43mself\u001b[39;49m\u001b[38;5;241;43m.\u001b[39;49m\u001b[43m_reshape_yi\u001b[49m\u001b[43m(\u001b[49m\u001b[38;5;28;43mself\u001b[39;49m\u001b[38;5;241;43m.\u001b[39;49m\u001b[43my\u001b[49m\u001b[43m)\u001b[49m\n\u001b[1;32m    533\u001b[0m \u001b[38;5;28mself\u001b[39m\u001b[38;5;241m.\u001b[39mx \u001b[38;5;241m=\u001b[39m x\n\u001b[1;32m    534\u001b[0m \u001b[38;5;28;01mdel\u001b[39;00m y, x  \u001b[38;5;66;03m# clean up namespace to prevent misuse; use attributes\u001b[39;00m\n",
      "File \u001b[0;32m~/.local/lib/python3.10/site-packages/scipy/interpolate/_polyint.py:112\u001b[0m, in \u001b[0;36m_Interpolator1D._reshape_yi\u001b[0;34m(self, yi, check)\u001b[0m\n\u001b[1;32m    109\u001b[0m     ok_shape \u001b[38;5;241m=\u001b[39m \u001b[38;5;124m\"\u001b[39m\u001b[38;5;132;01m{!r}\u001b[39;00m\u001b[38;5;124m + (N,) + \u001b[39m\u001b[38;5;132;01m{!r}\u001b[39;00m\u001b[38;5;124m\"\u001b[39m\u001b[38;5;241m.\u001b[39mformat(\u001b[38;5;28mself\u001b[39m\u001b[38;5;241m.\u001b[39m_y_extra_shape[\u001b[38;5;241m-\u001b[39m\u001b[38;5;28mself\u001b[39m\u001b[38;5;241m.\u001b[39m_y_axis:],\n\u001b[1;32m    110\u001b[0m                                    \u001b[38;5;28mself\u001b[39m\u001b[38;5;241m.\u001b[39m_y_extra_shape[:\u001b[38;5;241m-\u001b[39m\u001b[38;5;28mself\u001b[39m\u001b[38;5;241m.\u001b[39m_y_axis])\n\u001b[1;32m    111\u001b[0m     \u001b[38;5;28;01mraise\u001b[39;00m \u001b[38;5;167;01mValueError\u001b[39;00m(\u001b[38;5;124m\"\u001b[39m\u001b[38;5;124mData must be of shape \u001b[39m\u001b[38;5;132;01m%s\u001b[39;00m\u001b[38;5;124m\"\u001b[39m \u001b[38;5;241m%\u001b[39m ok_shape)\n\u001b[0;32m--> 112\u001b[0m \u001b[38;5;28;01mreturn\u001b[39;00m \u001b[43myi\u001b[49m\u001b[38;5;241;43m.\u001b[39;49m\u001b[43mreshape\u001b[49m\u001b[43m(\u001b[49m\u001b[43m(\u001b[49m\u001b[43myi\u001b[49m\u001b[38;5;241;43m.\u001b[39;49m\u001b[43mshape\u001b[49m\u001b[43m[\u001b[49m\u001b[38;5;241;43m0\u001b[39;49m\u001b[43m]\u001b[49m\u001b[43m,\u001b[49m\u001b[43m \u001b[49m\u001b[38;5;241;43m-\u001b[39;49m\u001b[38;5;241;43m1\u001b[39;49m\u001b[43m)\u001b[49m\u001b[43m)\u001b[49m\n",
      "\u001b[0;31mValueError\u001b[0m: cannot reshape array of size 0 into shape (0,newaxis)"
     ]
    }
   ],
   "source": [
    "LaserAnalyzer=LaserAnalyzer(camera.frame , 5.2, units='μm', background_fraction=0.035,crop=False)"
   ]
  },
  {
   "cell_type": "code",
   "execution_count": null,
   "id": "c6530a0f",
   "metadata": {},
   "outputs": [],
   "source": [
    "mask = np.isnan(camera.frame)\n",
    "if mask.any():\n",
    "    sx = frame[~mask]\n",
    "    if sx.size == 0:\n",
    "        print(\"No Sirve !!\")"
   ]
  },
  {
   "cell_type": "code",
   "execution_count": null,
   "id": "402c2c2a",
   "metadata": {},
   "outputs": [],
   "source": [
    "camera.frame"
   ]
  },
  {
   "cell_type": "code",
   "execution_count": null,
   "id": "9c8d247f",
   "metadata": {},
   "outputs": [],
   "source": []
  }
 ],
 "metadata": {
  "kernelspec": {
   "display_name": "Python 3 (ipykernel)",
   "language": "python",
   "name": "python3"
  },
  "language_info": {
   "codemirror_mode": {
    "name": "ipython",
    "version": 3
   },
   "file_extension": ".py",
   "mimetype": "text/x-python",
   "name": "python",
   "nbconvert_exporter": "python",
   "pygments_lexer": "ipython3",
   "version": "3.10.12"
  }
 },
 "nbformat": 4,
 "nbformat_minor": 5
}
